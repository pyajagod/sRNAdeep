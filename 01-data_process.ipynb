{
 "cells": [
  {
   "cell_type": "code",
   "execution_count": 1,
   "metadata": {},
   "outputs": [],
   "source": [
    "import pandas as pd\n",
    "import numpy as np\n",
    "import re, os\n",
    "import pyfastx\n",
    "from Bio import SeqIO\n",
    "from collections import Counter"
   ]
  },
  {
   "cell_type": "markdown",
   "metadata": {},
   "source": [
    "1. filter test\n",
    "\n",
    "use blastn filter sequences in test which are similar with sequences in train "
   ]
  },
  {
   "cell_type": "code",
   "execution_count": 73,
   "metadata": {},
   "outputs": [],
   "source": [
    "# 1 do 00_other_do_blastn.py get blastn result\n",
    "filter_path = '' # the ID of RNA sequences which can matched training set\n",
    "path = '' # all sequence information of sequences \n",
    "test_filter = pd.read_csv(filter_path, sep='\\t', header=None)\n",
    "test = pd.read_csv(path)"
   ]
  },
  {
   "cell_type": "code",
   "execution_count": null,
   "metadata": {},
   "outputs": [],
   "source": [
    "test_filter"
   ]
  },
  {
   "cell_type": "code",
   "execution_count": 75,
   "metadata": {},
   "outputs": [],
   "source": [
    "filter_idx = [int(x[14:])-1 for x in test_filter.iloc[:, 0].unique().tolist()]"
   ]
  },
  {
   "cell_type": "code",
   "execution_count": 76,
   "metadata": {},
   "outputs": [],
   "source": [
    "test_filter = test[~test.index.isin(filter_idx)]#.value_counts('tag')"
   ]
  },
  {
   "cell_type": "code",
   "execution_count": null,
   "metadata": {},
   "outputs": [],
   "source": [
    "test_filter"
   ]
  },
  {
   "cell_type": "code",
   "execution_count": 78,
   "metadata": {},
   "outputs": [],
   "source": [
    "# tests which can use to predict result or validate the performance of model\n",
    "test_filter.to_csv('', index=False)"
   ]
  },
  {
   "cell_type": "markdown",
   "metadata": {},
   "source": [
    "02. GC% statistics\n",
    "\n",
    "- calcaulate genomes "
   ]
  },
  {
   "cell_type": "code",
   "execution_count": null,
   "metadata": {},
   "outputs": [],
   "source": [
    "def calculate_gc_content(seq):\n",
    "    g_count = seq.count('G')\n",
    "    c_count = seq.count('C')\n",
    "    total_count = len(seq)\n",
    "    return (g_count + c_count) / total_count * 100 if total_count > 0 else 0\n",
    "\n",
    "# folder_path = \"./fastas/train_part/coding_bacteria\"  \n",
    "folder_path = \"./fastas/application_part/genomics\"  \n",
    "dict = {'Name': [], 'GC Content': [], 'Category': []}\n",
    "for filename in os.listdir(folder_path):\n",
    "    bac_name = ' '.join(filename.split('_')[:2])\n",
    "\n",
    "    if filename.endswith(\".fasta\") or filename.endswith(\".fa\") or filename.endswith(\".fna\"):  # 检查文件扩展名\n",
    "        file_path = os.path.join(folder_path, filename)\n",
    "        \n",
    "        record_r = ''\n",
    "        # read the sequences and calculate %GC\n",
    "        for record in SeqIO.parse(file_path, \"fasta\"):\n",
    "            record_r += str(record.seq)\n",
    "\n",
    "        gc_content = calculate_gc_content(record_r)\n",
    "        print(gc_content)\n",
    "        # group by %GC\n",
    "        if gc_content > 60:\n",
    "            category = 'high'\n",
    "        elif 40 <= gc_content <= 60:\n",
    "            category = 'middle'\n",
    "        else:\n",
    "            category = 'low'\n",
    "        dict['Name'].append(bac_name)\n",
    "        dict['GC Content'].append(gc_content)\n",
    "        dict['Category'].append(category)\n",
    "        print(f\"Filename: {bac_name}, GC Content: {gc_content:.2f}%, Category: {category}\")\n"
   ]
  },
  {
   "cell_type": "code",
   "execution_count": null,
   "metadata": {},
   "outputs": [],
   "source": [
    "pd.DataFrame(dict)"
   ]
  },
  {
   "cell_type": "code",
   "execution_count": null,
   "metadata": {},
   "outputs": [],
   "source": [
    "import matplotlib.pyplot as plt\n",
    "\n",
    "category_counts = Counter(dict['Category'])\n",
    "\n",
    "\n",
    "labels = category_counts.keys()\n",
    "sizes = category_counts.values()\n",
    "\n",
    "plt.figure(figsize=(7, 7))\n",
    "plt.pie(sizes, labels=labels, autopct='%1.1f%%', startangle=90, colors=['#ff9999','#66b3ff','#99ff99'])\n",
    "plt.axis('equal')  \n",
    "plt.title('GC% Category Distribution')\n",
    "plt.show()"
   ]
  },
  {
   "cell_type": "markdown",
   "metadata": {},
   "source": [
    "- calculate train & test sequences"
   ]
  },
  {
   "cell_type": "code",
   "execution_count": 4,
   "metadata": {},
   "outputs": [],
   "source": [
    "import os\n",
    "from Bio import SeqIO\n",
    "\n",
    "def calculate_gc_content(seq):\n",
    "    g_count = seq.count('G')\n",
    "    c_count = seq.count('C')\n",
    "    total_count = len(seq)\n",
    "    return (g_count + c_count) / total_count * 100 if total_count > 0 else 0\n",
    "\n",
    "\n",
    "def get_precent_gc(fasta_file_path): \n",
    "    \n",
    "    gc_data = {'Name': [], 'GC Content': [], 'Category': []}\n",
    "\n",
    " \n",
    "    combined_sequence = \"\"\n",
    "    for record in SeqIO.parse(fasta_file_path, \"fasta\"):\n",
    "        \n",
    "        sequence_name = record.id\n",
    "        sequence = str(record.seq)\n",
    "        gc_content = calculate_gc_content(sequence)\n",
    "        \n",
    "        if gc_content > 60:\n",
    "            category = 'high'\n",
    "        elif 40 <= gc_content <= 60:\n",
    "            category = 'middle'\n",
    "        else:\n",
    "            category = 'low'\n",
    "        \n",
    "        gc_data['Name'].append(sequence_name)\n",
    "        gc_data['GC Content'].append(gc_content)\n",
    "        gc_data['Category'].append(category)\n",
    "\n",
    "        print(f\"Sequence: {sequence_name}, GC Content: {gc_content:.2f}%, Category: {category}\")\n",
    "\n",
    "    return gc_data"
   ]
  },
  {
   "cell_type": "code",
   "execution_count": null,
   "metadata": {},
   "outputs": [],
   "source": [
    "# fastas of sequences which need to calculate %GC\n",
    "fasta_file_path_train = \"\"\n",
    "fasta_file_path_test = \"\"\n",
    "train_gc_data = get_precent_gc(fasta_file_path_train)\n",
    "test_gc_data = get_precent_gc(fasta_file_path_test)"
   ]
  },
  {
   "cell_type": "code",
   "execution_count": null,
   "metadata": {},
   "outputs": [],
   "source": [
    "import matplotlib.pyplot as plt\n",
    "category_counts = Counter(train_gc_data['Category'])\n",
    "\n",
    "labels = category_counts.keys()\n",
    "sizes = category_counts.values()\n",
    "\n",
    "plt.figure(figsize=(7, 7))\n",
    "plt.pie(sizes, labels=labels, autopct='%1.1f%%', startangle=90, colors=['#ff9999','#66b3ff','#99ff99'])\n",
    "plt.axis('equal')  \n",
    "\n",
    "plt.savefig('category_distribution_train.png', dpi=300)\n",
    "plt.show()"
   ]
  },
  {
   "cell_type": "code",
   "execution_count": null,
   "metadata": {},
   "outputs": [],
   "source": [
    "category_counts = Counter(test_gc_data['Category'])\n",
    "\n",
    "\n",
    "labels = category_counts.keys()\n",
    "sizes = category_counts.values()\n",
    "\n",
    "plt.figure(figsize=(7, 7))\n",
    "plt.pie(sizes, labels=labels, autopct='%1.1f%%', startangle=90, colors=['#ff9999','#66b3ff','#99ff99'])\n",
    "plt.axis('equal')  \n",
    "plt.savefig('category_distribution_test.png', dpi=300)\n",
    "plt.show()"
   ]
  },
  {
   "cell_type": "markdown",
   "metadata": {},
   "source": [
    "02. get model inputs"
   ]
  },
  {
   "cell_type": "code",
   "execution_count": 26,
   "metadata": {},
   "outputs": [],
   "source": [
    "import pandas as pd\n",
    "import numpy as np\n",
    "import re\n",
    "import pyfastx\n",
    "from collections import Counter"
   ]
  },
  {
   "cell_type": "code",
   "execution_count": null,
   "metadata": {},
   "outputs": [],
   "source": [
    "def is_valid_rna_sequence(sequence):\n",
    "    valid_bases = ['A', 'T', 'C', 'G']\n",
    "    for base in sequence:\n",
    "        if base not in valid_bases:\n",
    "            return False\n",
    "    \n",
    "    return True\n",
    "\n",
    "def generate_3mers(sequence, k=3):\n",
    "    kmer_list = [sequence[i:i+k] for i in range(len(sequence) - k + 1)]\n",
    "    return kmer_list\n",
    "\n",
    "\n",
    "for name in ['Mycoplasma_flocculare', 'Mycoplasma_hyopneumoniae', 'Mycoplasma_hyorhinis']:\n",
    "    print(name, ':')\n",
    "    dict = {\"sequence\": [], \"tag\":[]}\n",
    "    file_path = f'./fastas/application_part/{name}.fasta'\n",
    "    fa = pyfastx.Fastx(file_path)\n",
    "    cnt = 0\n",
    "    for _, seq in fa:\n",
    "        if 50 <= len(seq) <= 500 and is_valid_rna_sequence(seq):\n",
    "            kmers = generate_3mers(seq, k=3)\n",
    "            dict['sequence'].append(' '.join(kmers))\n",
    "            dict['tag'].append([0, 1])\n",
    "    dict_df = pd.DataFrame(dict)\n",
    "    dict_df.to_csv(f'{name}.csv', index=False)"
   ]
  },
  {
   "cell_type": "code",
   "execution_count": 86,
   "metadata": {},
   "outputs": [],
   "source": [
    "sim = pd.read_csv(\"\")"
   ]
  },
  {
   "cell_type": "code",
   "execution_count": null,
   "metadata": {},
   "outputs": [],
   "source": [
    "sim['tag'].value_counts()"
   ]
  },
  {
   "cell_type": "code",
   "execution_count": 88,
   "metadata": {},
   "outputs": [],
   "source": [
    "sim = pd.read_csv(\"\")"
   ]
  },
  {
   "cell_type": "code",
   "execution_count": null,
   "metadata": {},
   "outputs": [],
   "source": [
    "sim['tag'].value_counts()"
   ]
  }
 ],
 "metadata": {
  "kernelspec": {
   "display_name": "base",
   "language": "python",
   "name": "python3"
  },
  "language_info": {
   "codemirror_mode": {
    "name": "ipython",
    "version": 3
   },
   "file_extension": ".py",
   "mimetype": "text/x-python",
   "name": "python",
   "nbconvert_exporter": "python",
   "pygments_lexer": "ipython3",
   "version": "3.10.9"
  }
 },
 "nbformat": 4,
 "nbformat_minor": 2
}
